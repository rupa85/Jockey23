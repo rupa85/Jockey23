{
  "nbformat": 4,
  "nbformat_minor": 0,
  "metadata": {
    "colab": {
      "provenance": []
    },
    "kernelspec": {
      "name": "python3",
      "display_name": "Python 3"
    },
    "language_info": {
      "name": "python"
    }
  },
  "cells": [
    {
      "cell_type": "code",
      "source": [
        "import numpy as np\n",
        "\n",
        "# Hyperparameters\n",
        "np.random.seed(1)\n",
        "vocab_size = 5       # numbers 0–4\n",
        "hidden_size = 10     # hidden units\n",
        "learning_rate = 0.1\n",
        "epochs = 200\n",
        "\n",
        "# Training data: sequences\n",
        "X = [0, 1, 2, 3]\n",
        "Y = [1, 2, 3, 4]\n",
        "\n",
        "# One-hot encoding\n",
        "def one_hot(idx, size):\n",
        "    vec = np.zeros((size, 1))\n",
        "    vec[idx] = 1\n",
        "    return vec\n",
        "\n",
        "# Initialize weights\n",
        "Wxh = np.random.randn(hidden_size, vocab_size) * 0.01\n",
        "Whh = np.random.randn(hidden_size, hidden_size) * 0.01\n",
        "Why = np.random.randn(vocab_size, hidden_size) * 0.01\n",
        "bh = np.zeros((hidden_size, 1))\n",
        "by = np.zeros((vocab_size, 1))\n",
        "\n",
        "# Training loop\n",
        "for epoch in range(epochs):\n",
        "    h = np.zeros((hidden_size, 1))\n",
        "    loss = 0\n",
        "\n",
        "    # Store values for backprop\n",
        "    xs, hs, ys, ps = {}, {}, {}, {}\n",
        "    hs[-1] = h\n",
        "\n",
        "    # Forward pass\n",
        "    for t in range(len(X)):\n",
        "        xs[t] = one_hot(X[t], vocab_size)\n",
        "        h = np.tanh(Wxh @ xs[t] + Whh @ hs[t-1] + bh)\n",
        "        y = Why @ h + by\n",
        "        p = np.exp(y) / np.sum(np.exp(y))\n",
        "        loss -= np.log(p[Y[t], 0])   # cross entropy\n",
        "        hs[t], ys[t], ps[t] = h, y, p\n",
        "\n",
        "    # Backpropagation through time\n",
        "    dWxh, dWhh, dWhy = np.zeros_like(Wxh), np.zeros_like(Whh), np.zeros_like(Why)\n",
        "    dbh, dby = np.zeros_like(bh), np.zeros_like(by)\n",
        "    dh_next = np.zeros_like(h)\n",
        "\n",
        "    for t in reversed(range(len(X))):\n",
        "        dy = np.copy(ps[t])\n",
        "        dy[Y[t]] -= 1   # derivative of loss wrt softmax\n",
        "        dWhy += dy @ hs[t].T\n",
        "        dby += dy\n",
        "        dh = Why.T @ dy + dh_next\n",
        "        dh_raw = (1 - hs[t] * hs[t]) * dh\n",
        "        dbh += dh_raw\n",
        "        dWxh += dh_raw @ xs[t].T\n",
        "        dWhh += dh_raw @ hs[t-1].T\n",
        "        dh_next = Whh.T @ dh_raw\n",
        "\n",
        "    # Update weights\n",
        "    for param, dparam in zip([Wxh, Whh, Why, bh, by],\n",
        "                             [dWxh, dWhh, dWhy, dbh, dby]):\n",
        "        param -= learning_rate * dparam\n",
        "\n",
        "    if epoch % 50 == 0:\n",
        "        print(f\"Epoch {epoch}, Loss: {loss:.4f}\")\n",
        "\n",
        "# Test prediction\n",
        "print(\"\\nTesting prediction:\")\n",
        "h = np.zeros((hidden_size, 1))\n",
        "for t in range(len(X)):\n",
        "    x = one_hot(X[t], vocab_size)\n",
        "    h = np.tanh(Wxh @ x + Whh @ h + bh)\n",
        "    y = Why @ h + by\n",
        "    p = np.exp(y) / np.sum(np.exp(y))\n",
        "    pred = np.argmax(p)\n",
        "    print(f\"Input {X[t]} → Predicted {pred}, True {Y[t]}\")\n"
      ],
      "metadata": {
        "colab": {
          "base_uri": "https://localhost:8080/"
        },
        "id": "AG7AP8Qrd4S9",
        "outputId": "1e8e463d-5c9a-4708-ccd1-55bf413f1671"
      },
      "execution_count": null,
      "outputs": [
        {
          "output_type": "stream",
          "name": "stdout",
          "text": [
            "Epoch 0, Loss: 6.4376\n",
            "Epoch 50, Loss: 0.6656\n",
            "Epoch 100, Loss: 0.0741\n",
            "Epoch 150, Loss: 0.0370\n",
            "\n",
            "Testing prediction:\n",
            "Input 0 → Predicted 1, True 1\n",
            "Input 1 → Predicted 2, True 2\n",
            "Input 2 → Predicted 3, True 3\n",
            "Input 3 → Predicted 4, True 4\n"
          ]
        }
      ]
    }
  ]
}