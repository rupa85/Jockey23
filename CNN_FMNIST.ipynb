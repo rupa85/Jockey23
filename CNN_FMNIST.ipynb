{
  "nbformat": 4,
  "nbformat_minor": 0,
  "metadata": {
    "colab": {
      "provenance": []
    },
    "kernelspec": {
      "name": "python3",
      "display_name": "Python 3"
    },
    "language_info": {
      "name": "python"
    }
  },
  "cells": [
    {
      "cell_type": "code",
      "execution_count": null,
      "metadata": {
        "id": "XHQTqM82PcRY"
      },
      "outputs": [],
      "source": [
        "import tensorflow as tf\n",
        "from tensorflow.keras.datasets import fashion_mnist\n",
        "from tensorflow.keras.models import Sequential\n",
        "from tensorflow.keras.layers import Conv2D, MaxPooling2D, Flatten, Dense, Dropout"
      ]
    },
    {
      "cell_type": "code",
      "source": [
        "# 1. Load dataset\n",
        "(x_train, y_train), (x_test, y_test) = fashion_mnist.load_data()\n",
        "\n",
        "# Reshape to include channel dimension (28x28x1)\n",
        "x_train = x_train.reshape(-1, 28, 28, 1).astype(\"float32\") / 255.0\n",
        "x_test = x_test.reshape(-1, 28, 28, 1).astype(\"float32\") / 255.0\n"
      ],
      "metadata": {
        "colab": {
          "base_uri": "https://localhost:8080/"
        },
        "id": "jtn42YZlQHgM",
        "outputId": "5a925f89-b5eb-4d76-d602-1264649156a2"
      },
      "execution_count": null,
      "outputs": [
        {
          "output_type": "stream",
          "name": "stdout",
          "text": [
            "Downloading data from https://storage.googleapis.com/tensorflow/tf-keras-datasets/train-labels-idx1-ubyte.gz\n",
            "\u001b[1m29515/29515\u001b[0m \u001b[32m━━━━━━━━━━━━━━━━━━━━\u001b[0m\u001b[37m\u001b[0m \u001b[1m0s\u001b[0m 0us/step\n",
            "Downloading data from https://storage.googleapis.com/tensorflow/tf-keras-datasets/train-images-idx3-ubyte.gz\n",
            "\u001b[1m26421880/26421880\u001b[0m \u001b[32m━━━━━━━━━━━━━━━━━━━━\u001b[0m\u001b[37m\u001b[0m \u001b[1m0s\u001b[0m 0us/step\n",
            "Downloading data from https://storage.googleapis.com/tensorflow/tf-keras-datasets/t10k-labels-idx1-ubyte.gz\n",
            "\u001b[1m5148/5148\u001b[0m \u001b[32m━━━━━━━━━━━━━━━━━━━━\u001b[0m\u001b[37m\u001b[0m \u001b[1m0s\u001b[0m 0us/step\n",
            "Downloading data from https://storage.googleapis.com/tensorflow/tf-keras-datasets/t10k-images-idx3-ubyte.gz\n",
            "\u001b[1m4422102/4422102\u001b[0m \u001b[32m━━━━━━━━━━━━━━━━━━━━\u001b[0m\u001b[37m\u001b[0m \u001b[1m0s\u001b[0m 0us/step\n"
          ]
        }
      ]
    },
    {
      "cell_type": "code",
      "source": [
        "model = Sequential([\n",
        "    Conv2D(32, (3,3), activation=\"relu\", input_shape=(28,28,1)),\n",
        "    MaxPooling2D((2,2)),\n",
        "\n",
        "    Conv2D(64, (3,3), activation=\"relu\"),\n",
        "    MaxPooling2D((2,2)),\n",
        "\n",
        "    Flatten(),\n",
        "    Dense(128, activation=\"relu\"),\n",
        "    Dropout(0.5),\n",
        "    Dense(10, activation=\"softmax\")   # 10 classes\n",
        "])"
      ],
      "metadata": {
        "colab": {
          "base_uri": "https://localhost:8080/"
        },
        "id": "tkW1mxm_QPi4",
        "outputId": "0ef2a6d4-5848-44a0-ac2f-66aea3c0f30f"
      },
      "execution_count": null,
      "outputs": [
        {
          "output_type": "stream",
          "name": "stderr",
          "text": [
            "/usr/local/lib/python3.12/dist-packages/keras/src/layers/convolutional/base_conv.py:113: UserWarning: Do not pass an `input_shape`/`input_dim` argument to a layer. When using Sequential models, prefer using an `Input(shape)` object as the first layer in the model instead.\n",
            "  super().__init__(activity_regularizer=activity_regularizer, **kwargs)\n"
          ]
        }
      ]
    },
    {
      "cell_type": "code",
      "source": [
        "model.compile(optimizer=\"adam\",\n",
        "              loss=\"sparse_categorical_crossentropy\",\n",
        "              metrics=[\"accuracy\"])\n",
        "\n",
        "# 4. Train model\n",
        "model.fit(x_train, y_train, epochs=10, batch_size=128, validation_split=0.1, verbose=2)\n"
      ],
      "metadata": {
        "colab": {
          "base_uri": "https://localhost:8080/"
        },
        "id": "pnbw58CjQahB",
        "outputId": "c2b076c7-9207-405a-89b0-d85a3c5a4aca"
      },
      "execution_count": null,
      "outputs": [
        {
          "output_type": "stream",
          "name": "stdout",
          "text": [
            "Epoch 1/10\n",
            "422/422 - 40s - 96ms/step - accuracy: 0.7527 - loss: 0.6744 - val_accuracy: 0.8433 - val_loss: 0.4273\n",
            "Epoch 2/10\n",
            "422/422 - 40s - 95ms/step - accuracy: 0.8430 - loss: 0.4347 - val_accuracy: 0.8700 - val_loss: 0.3462\n",
            "Epoch 3/10\n",
            "422/422 - 37s - 89ms/step - accuracy: 0.8653 - loss: 0.3767 - val_accuracy: 0.8812 - val_loss: 0.3180\n",
            "Epoch 4/10\n",
            "422/422 - 37s - 89ms/step - accuracy: 0.8769 - loss: 0.3414 - val_accuracy: 0.8872 - val_loss: 0.2941\n",
            "Epoch 5/10\n",
            "422/422 - 37s - 88ms/step - accuracy: 0.8862 - loss: 0.3157 - val_accuracy: 0.8905 - val_loss: 0.2844\n",
            "Epoch 6/10\n",
            "422/422 - 37s - 87ms/step - accuracy: 0.8907 - loss: 0.2993 - val_accuracy: 0.8983 - val_loss: 0.2682\n",
            "Epoch 7/10\n",
            "422/422 - 41s - 98ms/step - accuracy: 0.8981 - loss: 0.2812 - val_accuracy: 0.9018 - val_loss: 0.2580\n",
            "Epoch 8/10\n",
            "422/422 - 37s - 89ms/step - accuracy: 0.9023 - loss: 0.2663 - val_accuracy: 0.9060 - val_loss: 0.2490\n",
            "Epoch 9/10\n",
            "422/422 - 37s - 88ms/step - accuracy: 0.9077 - loss: 0.2528 - val_accuracy: 0.9067 - val_loss: 0.2442\n",
            "Epoch 10/10\n",
            "422/422 - 41s - 97ms/step - accuracy: 0.9123 - loss: 0.2426 - val_accuracy: 0.9140 - val_loss: 0.2346\n"
          ]
        },
        {
          "output_type": "execute_result",
          "data": {
            "text/plain": [
              "<keras.src.callbacks.history.History at 0x786cfe798260>"
            ]
          },
          "metadata": {},
          "execution_count": 6
        }
      ]
    },
    {
      "cell_type": "code",
      "source": [
        "test_loss, test_acc = model.evaluate(x_test, y_test, verbose=0)\n",
        "print(f\"Test accuracy: {test_acc:.4f}\")\n",
        "print(f\"Test loss: {test_loss:.4f}\")\n",
        "# 6. Predict example\n",
        "pred = model.predict(x_test[:1])\n",
        "print(\"Predicted class:\", pred.argmax())\n",
        "print(\"True class:\", y_test[0])"
      ],
      "metadata": {
        "colab": {
          "base_uri": "https://localhost:8080/"
        },
        "id": "sXrmiqCjQdsv",
        "outputId": "eccd20bc-60ca-49cf-d4e4-956e851a5ed6"
      },
      "execution_count": null,
      "outputs": [
        {
          "output_type": "stream",
          "name": "stdout",
          "text": [
            "Test accuracy: 0.9066\n",
            "Test loss: 0.2581\n",
            "\u001b[1m1/1\u001b[0m \u001b[32m━━━━━━━━━━━━━━━━━━━━\u001b[0m\u001b[37m\u001b[0m \u001b[1m0s\u001b[0m 97ms/step\n",
            "Predicted class: 9\n",
            "True class: 9\n"
          ]
        }
      ]
    },
    {
      "cell_type": "code",
      "source": [],
      "metadata": {
        "id": "NLauk2LsXiml"
      },
      "execution_count": null,
      "outputs": []
    }
  ]
}